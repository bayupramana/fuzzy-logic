{
 "cells": [
  {
   "cell_type": "code",
   "execution_count": 12,
   "metadata": {},
   "outputs": [],
   "source": [
    "import numpy as np\n",
    "import pandas as pd\n",
    "import matplotlib.pyplot as plt"
   ]
  },
  {
   "cell_type": "code",
   "execution_count": 13,
   "metadata": {},
   "outputs": [],
   "source": [
    "influencer = pd.read_csv('dataInfluencer.csv', delimiter=',')"
   ]
  },
  {
   "cell_type": "code",
   "execution_count": 14,
   "metadata": {},
   "outputs": [],
   "source": [
    "aturan = pd.read_csv('rules.csv', delimiter=',')"
   ]
  },
  {
   "cell_type": "code",
   "execution_count": 15,
   "metadata": {},
   "outputs": [
    {
     "data": {
      "text/html": [
       "<div>\n",
       "<style scoped>\n",
       "    .dataframe tbody tr th:only-of-type {\n",
       "        vertical-align: middle;\n",
       "    }\n",
       "\n",
       "    .dataframe tbody tr th {\n",
       "        vertical-align: top;\n",
       "    }\n",
       "\n",
       "    .dataframe thead th {\n",
       "        text-align: right;\n",
       "    }\n",
       "</style>\n",
       "<table border=\"1\" class=\"dataframe\">\n",
       "  <thead>\n",
       "    <tr style=\"text-align: right;\">\n",
       "      <th></th>\n",
       "      <th>followerCount/engagementRate</th>\n",
       "      <th>rendah</th>\n",
       "      <th>sedang</th>\n",
       "      <th>tinggi</th>\n",
       "    </tr>\n",
       "  </thead>\n",
       "  <tbody>\n",
       "    <tr>\n",
       "      <th>0</th>\n",
       "      <td>rendah</td>\n",
       "      <td>tidak</td>\n",
       "      <td>tidak</td>\n",
       "      <td>tidak</td>\n",
       "    </tr>\n",
       "    <tr>\n",
       "      <th>1</th>\n",
       "      <td>sedang</td>\n",
       "      <td>tidak</td>\n",
       "      <td>iya</td>\n",
       "      <td>iya</td>\n",
       "    </tr>\n",
       "    <tr>\n",
       "      <th>2</th>\n",
       "      <td>tinggi</td>\n",
       "      <td>tidak</td>\n",
       "      <td>iya</td>\n",
       "      <td>iya</td>\n",
       "    </tr>\n",
       "  </tbody>\n",
       "</table>\n",
       "</div>"
      ],
      "text/plain": [
       "  followerCount/engagementRate rendah sedang tinggi\n",
       "0                       rendah  tidak  tidak  tidak\n",
       "1                       sedang  tidak    iya    iya\n",
       "2                       tinggi  tidak    iya    iya"
      ]
     },
     "execution_count": 15,
     "metadata": {},
     "output_type": "execute_result"
    }
   ],
   "source": [
    "aturan"
   ]
  },
  {
   "cell_type": "code",
   "execution_count": 16,
   "metadata": {
    "scrolled": true
   },
   "outputs": [
    {
     "data": {
      "text/plain": [
       "array([11590.8, 19795.8, 29004.4, 43904. , 95117. ])"
      ]
     },
     "execution_count": 16,
     "metadata": {},
     "output_type": "execute_result"
    }
   ],
   "source": [
    "influencer['followerCount'].quantile([0.2, 0.4, 0.6, 0.8, 1]).values"
   ]
  },
  {
   "cell_type": "code",
   "execution_count": 17,
   "metadata": {},
   "outputs": [
    {
     "data": {
      "text/plain": [
       "array([0.97, 2.5 , 4.93, 9.4 ])"
      ]
     },
     "execution_count": 17,
     "metadata": {},
     "output_type": "execute_result"
    }
   ],
   "source": [
    "influencer['engagementRate'].quantile([0.3, 0.6, 0.9, 1]).values"
   ]
  },
  {
   "cell_type": "code",
   "execution_count": 5,
   "metadata": {},
   "outputs": [],
   "source": [
    "def batas(data,a,b,c,d):\n",
    "    if(data <= a) or (data>=d):\n",
    "        return 0\n",
    "    elif (a < data) and (data < b):\n",
    "        return (data-a)/(b-a)\n",
    "    elif (b <= data) and (data <= c):\n",
    "        return 1\n",
    "    elif (c < data) and (data <= d):\n",
    "        return -(data-d)/(d-c)"
   ]
  },
  {
   "cell_type": "code",
   "execution_count": 11,
   "metadata": {},
   "outputs": [],
   "source": [
    "def grafikfollowers():\n",
    "    t = np.arange(0.0, 95118, 1)\n",
    "    rendah = []\n",
    "    sedang = []\n",
    "    tinggi = []\n",
    "    for i in range(0, len(t)):\n",
    "        rendah.append(batas(t[i], -1, -1, 11590.8 , 19795.8))\n",
    "        sedang.append(batas(t[i], 11590.8 , 19795.8, 29004.4, 43904))\n",
    "        tinggi.append(batas(t[i], 29004.4, 43904, 95118, 95118))\n",
    "    plt.figure(figsize=(20,5))\n",
    "    plt.plot(t, rendah, color='r')\n",
    "    plt.plot(t, sedang, color='g')\n",
    "    plt.plot(t, tinggi, color='b')\n",
    "    plt.show"
   ]
  },
  {
   "cell_type": "code",
   "execution_count": 18,
   "metadata": {},
   "outputs": [],
   "source": [
    "def grafikEngagement():\n",
    "    t = np.arange(0.0, 10, 0.01)\n",
    "    rendah = []\n",
    "    sedang = []\n",
    "    tinggi = []\n",
    "    for i in range(0, len(t)):\n",
    "        rendah.append(batas(t[i], -1, -1, 0.97 , 2.5))\n",
    "        sedang.append(batas(t[i], 0.97 , 2.5, 4.93, 9.4))\n",
    "        tinggi.append(batas(t[i], 4.93, 9.4, 10.0, 10.0))\n",
    "    plt.figure(figsize=(20,5))\n",
    "    plt.plot(t, rendah, color='r')\n",
    "    plt.plot(t, sedang, color='g')\n",
    "    plt.plot(t, tinggi, color='b')\n",
    "    plt.show"
   ]
  },
  {
   "cell_type": "code",
   "execution_count": 19,
   "metadata": {},
   "outputs": [
    {
     "data": {
      "image/png": "[encoded data removed]",
      "text/plain": [
       "<Figure size 1440x360 with 1 Axes>"
      ]
     },
     "metadata": {
      "needs_background": "light"
     },
     "output_type": "display_data"
    }
   ],
   "source": [
    "grafikEngagement()"
   ]
  },
  {
   "cell_type": "code",
   "execution_count": 12,
   "metadata": {
    "scrolled": false
   },
   "outputs": [
    {
     "data": {
      "image/png": "[encoded data removed]",
      "text/plain": [
       "<Figure size 1440x360 with 1 Axes>"
      ]
     },
     "metadata": {
      "needs_background": "light"
     },
     "output_type": "display_data"
    }
   ],
   "source": [
    "grafikfollowers()"
   ]
  },
  {
   "cell_type": "code",
   "execution_count": 20,
   "metadata": {},
   "outputs": [],
   "source": [
    "def fuzzyficationFollower(followers):\n",
    "    fRendah = 11590.8\n",
    "    fSedang = 19795.8\n",
    "    fMenengah = 29004.4\n",
    "    fTinggi = 43904\n",
    "    \n",
    "    \n",
    "    hasil = []\n",
    "    \n",
    "    for follower in followers:\n",
    "        rendah = batas(follower, -1, -1, fRendah , fSedang)\n",
    "        sedang = batas(follower, fRendah , fSedang, fMenengah , fTinggi)\n",
    "        tinggi = batas(follower, fMenengah , fTinggi, 95118, 95118)\n",
    "        hasil.append((rendah, sedang, tinggi))\n",
    "    return hasil"
   ]
  },
  {
   "cell_type": "code",
   "execution_count": 21,
   "metadata": {},
   "outputs": [],
   "source": [
    "def fuzzyficationEngagement(engagements):\n",
    "    eRendah = 0.97\n",
    "    eSedang = 2.5\n",
    "    eMenengah = 4.93\n",
    "    eTinggi = 9.4\n",
    "    \n",
    "    hasil = []\n",
    "    \n",
    "    for engagement in engagements:\n",
    "        rendah = (batas(engagement, -1, -1, eRendah , eSedang))\n",
    "        sedang = (batas(engagement, eRendah , eSedang, eMenengah, eTinggi))\n",
    "        tinggi = (batas(engagement, eMenengah, eTinggi, 10, 10))\n",
    "        hasil.append((rendah, sedang, tinggi))\n",
    "    return hasil"
   ]
  },
  {
   "cell_type": "code",
   "execution_count": 22,
   "metadata": {},
   "outputs": [],
   "source": [
    "def inference(follower, engagement):\n",
    "    aturan =  pd.read_csv('rules.csv', delimiter = ',')\n",
    "    i = 0\n",
    "    acc = [0]\n",
    "    no = [0]\n",
    "    for rendah, sedang, tinggi in zip(aturan['rendah'].values, aturan['sedang'].values, aturan['tinggi'].values):\n",
    "        if (rendah == 'iya'):\n",
    "            acc.append(min(follower[i], engagement[0]))\n",
    "        else:\n",
    "            no.append(min(follower[i], engagement[0]))\n",
    "        if (sedang == 'iya'):\n",
    "            acc.append(min(follower[i], engagement[1]))\n",
    "        else:\n",
    "            no.append(min(follower[i], engagement[1]))\n",
    "        if(tinggi == 'iya'):\n",
    "            acc.append(min(follower[i], engagement[2]))\n",
    "        else:\n",
    "            no.append(min(follower[i], engagement[2]))\n",
    "        i += 1\n",
    "    return max(acc), max(no)"
   ]
  },
  {
   "cell_type": "code",
   "execution_count": 23,
   "metadata": {},
   "outputs": [],
   "source": [
    "def defuzzyfication(acc, no):\n",
    "    batasTidak = 30\n",
    "    batasYa = 90\n",
    "    return (acc*batasYa+no*batasTidak)/(acc+no)"
   ]
  },
  {
   "cell_type": "code",
   "execution_count": 24,
   "metadata": {},
   "outputs": [
    {
     "name": "stdout",
     "output_type": "stream",
     "text": [
      "Influencer terbaik dengan id :  [91 93 61 36 60 80 48 78 76 75 74 73 72 71  2 51 53 67 59 41]\n"
     ]
    }
   ],
   "source": [
    "follower = fuzzyficationFollower(influencer['followerCount'].values)\n",
    "engagement = fuzzyficationEngagement(influencer['engagementRate'].values)\n",
    "hasil = []\n",
    "for foll, en in zip(follower, engagement):\n",
    "    ya, tidak = inference(foll, en)\n",
    "    result = defuzzyfication(ya, tidak)\n",
    "    hasil.append(result)\n",
    "terbaik = np.argpartition(hasil, -20)[-20:]+1\n",
    "print(\"Influencer terbaik dengan id : \",terbaik)"
   ]
  },
  {
   "cell_type": "code",
   "execution_count": 25,
   "metadata": {},
   "outputs": [],
   "source": [
    "np.savetxt('chosen.txt', terbaik, fmt=\"%i\")"
   ]
  },
  {
   "cell_type": "code",
   "execution_count": null,
   "metadata": {},
   "outputs": [],
   "source": []
  }
 ],
 "metadata": {
  "kernelspec": {
   "display_name": "Python 3",
   "language": "python",
   "name": "python3"
  },
  "language_info": {
   "codemirror_mode": {
    "name": "ipython",
    "version": 3
   },
   "file_extension": ".py",
   "mimetype": "text/x-python",
   "name": "python",
   "nbconvert_exporter": "python",
   "pygments_lexer": "ipython3",
   "version": "3.7.3"
  }
 },
 "nbformat": 4,
 "nbformat_minor": 2
}
